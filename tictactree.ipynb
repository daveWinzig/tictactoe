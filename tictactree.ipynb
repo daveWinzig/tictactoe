{
 "cells": [
  {
   "cell_type": "code",
   "execution_count": 59,
   "metadata": {},
   "outputs": [],
   "source": [
    "import copy\n",
    "import sys\n",
    "import tictactoe as ttt"
   ]
  },
  {
   "cell_type": "code",
   "execution_count": null,
   "metadata": {},
   "outputs": [],
   "source": []
  },
  {
   "cell_type": "code",
   "execution_count": 93,
   "metadata": {},
   "outputs": [],
   "source": [
    "board=ttt.Board(size=3)\n"
   ]
  },
  {
   "cell_type": "code",
   "execution_count": 54,
   "metadata": {},
   "outputs": [
    {
     "data": {
      "text/plain": [
       "[[None, None], [None, None]]"
      ]
     },
     "execution_count": 54,
     "metadata": {},
     "output_type": "execute_result"
    }
   ],
   "source": [
    "board.board"
   ]
  },
  {
   "cell_type": "code",
   "execution_count": 26,
   "metadata": {},
   "outputs": [
    {
     "data": {
      "text/plain": [
       "2"
      ]
     },
     "execution_count": 26,
     "metadata": {},
     "output_type": "execute_result"
    }
   ],
   "source": [
    "board.size"
   ]
  },
  {
   "cell_type": "code",
   "execution_count": 88,
   "metadata": {},
   "outputs": [
    {
     "name": "stdout",
     "output_type": "stream",
     "text": [
      "-|-\n",
      "-|-\n"
     ]
    }
   ],
   "source": [
    "board.renderBoard()"
   ]
  },
  {
   "cell_type": "code",
   "execution_count": 80,
   "metadata": {},
   "outputs": [
    {
     "data": {
      "text/plain": [
       "{'won': False, 'winner': None}"
      ]
     },
     "execution_count": 80,
     "metadata": {},
     "output_type": "execute_result"
    }
   ],
   "source": [
    "XInARow([['X', 'O'], ['X', None]])"
   ]
  },
  {
   "cell_type": "code",
   "execution_count": 81,
   "metadata": {},
   "outputs": [],
   "source": [
    "def XInARow(board):\n",
    "    \"\"\"\n",
    "    Scan to see if there are three in a row\n",
    "    Value - the game token to be checked.\n",
    "    \"\"\"\n",
    "    size = len(board[0])\n",
    "    result = dict()\n",
    "    result['won'] = False\n",
    "    result['winner'] = None\n",
    "    XOMap = ['X','O']\n",
    "\n",
    "    # row scan\n",
    "\n",
    "    comp = [['X' for x in range(size)],['O' for x in range(size)]]\n",
    "    rowResult = [x in board for x in comp]\n",
    "        \n",
    "    if True in rowResult:\n",
    "        result['won'] = True\n",
    "        result['winner'] = XOMap[rowResult.index(True)]\n",
    "\n",
    "    # column scan\n",
    "    for i in range(size):\n",
    "        inARow = 0\n",
    "        compValue = board[0][i]\n",
    "        for j in range(size):\n",
    "            if board[j][i] == compValue and compValue in XOMap:\n",
    "                inARow += 1\n",
    "        if inARow == size:\n",
    "            result['won'] = True\n",
    "            result['winner'] = compValue\n",
    "            break\n",
    "\n",
    "    return result"
   ]
  },
  {
   "cell_type": "code",
   "execution_count": 84,
   "metadata": {},
   "outputs": [],
   "source": [
    "\n",
    "value = 'X'\n",
    "parent = {\"board\" : [[None, None, None], [None, None, None], [None, None, None]], \"won\" : False, \"winner\" : None, \"route\" : 0, \"children\" : None}\n",
    "\n",
    "def iterateMoveSpaceBranch(value, parent):\n",
    "    parentBoard = parent[\"board\"]\n",
    "    branch = []\n",
    "    for i in range(board.size):\n",
    "        for j in range(board.size):\n",
    "            tempBoard = copy.deepcopy(parentBoard)\n",
    "            \n",
    "            if parentBoard[i][j] == None:\n",
    "                tempBoard[i][j] = value\n",
    "                result = XInARow(tempBoard)\n",
    "                if not result[\"won\"]:\n",
    "                    tempDict = {\"board\" : tempBoard, \"won\" : result['won'], \"winner\" : result['winner'], \"route\" : 0, \"children\" : None}\n",
    "                    branch.append(tempDict)\n",
    "\n",
    "    return branch\n",
    "\n"
   ]
  },
  {
   "cell_type": "code",
   "execution_count": 85,
   "metadata": {},
   "outputs": [],
   "source": [
    "def initTicTacTree(root, value):\n",
    "\n",
    "    values = {'X' : 'O', 'O' : 'X'}\n",
    "    parent = root\n",
    "    \n",
    "\n",
    "    parent['children'] = iterateMoveSpaceBranch(value,parent)\n",
    "\n",
    "    value = values[value]\n",
    "    if parent['children']:\n",
    "        for child in parent['children']:\n",
    "            initTicTacTree(child, value)\n",
    "    else:\n",
    "        return\n",
    "    "
   ]
  },
  {
   "cell_type": "code",
   "execution_count": null,
   "metadata": {},
   "outputs": [],
   "source": [
    "tree=dict()\n",
    "root = {\"board\" : board.board, \"won\" : False, \"winner\" : None, \"route\" : 0, \"children\" : None}\n",
    "value = 'X'\n",
    "parent = root\n",
    "values = {'X' : 'O', 'O' : 'X'}\n",
    "\n",
    "initTicTacTree(root,'X')\n",
    "\n",
    "root"
   ]
  }
 ],
 "metadata": {
  "interpreter": {
   "hash": "a0bb9f38b72d2b8c0e0537b296d207836760276085e51cc083105ecf26ba0b89"
  },
  "kernelspec": {
   "display_name": "Python 3.9.6 64-bit",
   "language": "python",
   "name": "python3"
  },
  "language_info": {
   "codemirror_mode": {
    "name": "ipython",
    "version": 3
   },
   "file_extension": ".py",
   "mimetype": "text/x-python",
   "name": "python",
   "nbconvert_exporter": "python",
   "pygments_lexer": "ipython3",
   "version": "3.9.6"
  },
  "orig_nbformat": 4
 },
 "nbformat": 4,
 "nbformat_minor": 2
}
