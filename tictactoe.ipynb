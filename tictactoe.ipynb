{
 "cells": [
  {
   "cell_type": "code",
   "execution_count": 1,
   "metadata": {},
   "outputs": [],
   "source": [
    "class Board:\n",
    "    \"\"\"\n",
    "    Contains the game board and position data and the logic to update positions, display board, and reset board.\"\n",
    "    \"\"\"\n",
    "\n",
    "    def __init__(self, size=3):\n",
    "        self.size = size #number of rows and columns in board\n",
    "        self.rows = size # number of rows in board\n",
    "        self.columns = size # number of columns in board\n",
    "        self.scores = [0,0]\n",
    "        self.board = self.initBoard() # empty board of rows x columns size\n",
    "\n",
    "    def initBoard(self):\n",
    "        \"\"\"\n",
    "        create a board of rows x columns - starts with empty values\n",
    "        \"\"\"\n",
    "        return [[None for column in range(self.columns)] for row in range(self.rows)]\n",
    "\n",
    "    def renderBoard(self):\n",
    "        \"\"\"\n",
    "        renderBoard prints a traditional tic tac toe board\n",
    "        with the current kayout of X's and O's\n",
    "        \"\"\"\n",
    "        \n",
    "        for row in self.board:\n",
    "            # switch in a box character fro empty values\n",
    "            swappedInSpaces = [\"_\" if col == None else col for col in row]\n",
    "            # join row characters together to form a single string to print\n",
    "            formattedRow = \"|\".join(swappedInSpaces)\n",
    "\n",
    "            print(formattedRow)\n",
    "\n",
    "    def updateBoard(self, row, column, value):\n",
    "        \"\"\"\n",
    "        Place a move on the board in a designated position\n",
    "        value goes to board[row][col] \n",
    "        \"\"\"\n",
    "\n",
    "        #check value is an X or an O\n",
    "        errors = []\n",
    "        values = ['X', 'O']\n",
    "        if value not in values:\n",
    "            errors.append(\"Value needs to be an X or an O\")\n",
    "        if row < 0 or row >= self.rows:\n",
    "            errors.append(\"Row index must be less than \" + str(self.rows))\n",
    "        if column < 0 or column >= self.columns:\n",
    "            errors.append(\"Column index must be less than \" + str(self.columns))\n",
    "\n",
    "        if not errors :\n",
    "            self.board[row][column] = value\n",
    "        else:\n",
    "            [print(error) for error in errors]\n",
    "\n",
    "    def resetBoard(self, reset=False):\n",
    "        \"\"\"\n",
    "        Clear current game board\n",
    "        Option to reset score\n",
    "        \"\"\"\n",
    "        self.board = self.initBoard()\n",
    "\n",
    "        if reset:\n",
    "            self.scores = [0,0]\n",
    "\n",
    "    def XInARow(self):\n",
    "        \"\"\"\n",
    "        Scan to see if there are three in a row\n",
    "        Value - the game token to be checked.\n",
    "        \"\"\"\n",
    "\n",
    "        result = dict()\n",
    "        result['won'] = False\n",
    "        result['winner'] = None\n",
    "        XOMap = ['X','O']\n",
    "\n",
    "        # row scan\n",
    "\n",
    "        comp = [['X' for x in range(self.size)],['O' for x in range(self.size)]]\n",
    "        rowResult = [x in self.board for x in comp]\n",
    "            \n",
    "        if True in rowResult:\n",
    "            result['won'] = True\n",
    "            result['winner'] = XOMap[rowResult.index(True)]\n",
    "\n",
    "        # column scan\n",
    "        for i in range(self.columns):\n",
    "            inARow = 0\n",
    "            compValue = self.board[0][i]\n",
    "            for j in range(self.rows):\n",
    "                if self.board[j][i] == compValue and compValue in XOMap:\n",
    "                    inARow += 1\n",
    "            if inARow == 3:\n",
    "                result['won'] = True\n",
    "                result['winner'] = compValue\n",
    "                break\n",
    "\n",
    "        return result\n",
    "\n",
    "\n",
    "\n",
    "\n",
    "\n",
    "    "
   ]
  },
  {
   "cell_type": "code",
   "execution_count": 299,
   "metadata": {},
   "outputs": [],
   "source": [
    "board = Board()"
   ]
  },
  {
   "cell_type": "code",
   "execution_count": 300,
   "metadata": {},
   "outputs": [
    {
     "name": "stdout",
     "output_type": "stream",
     "text": [
      "_|_|_\n",
      "_|_|_\n",
      "_|_|_\n"
     ]
    }
   ],
   "source": [
    "board.renderBoard()"
   ]
  },
  {
   "cell_type": "code",
   "execution_count": 293,
   "metadata": {},
   "outputs": [],
   "source": [
    "board.board = [['O', 'X', 'O'],['X', 'X', 'X'], ['O', 'O', 'X']]"
   ]
  },
  {
   "cell_type": "code",
   "execution_count": 242,
   "metadata": {},
   "outputs": [],
   "source": [
    "board.board = [['O', 'X', 'O'],['O', 'X', 'O'], ['O', 'O', 'X']]"
   ]
  },
  {
   "cell_type": "code",
   "execution_count": 200,
   "metadata": {},
   "outputs": [],
   "source": [
    "board.board = [['X', 'O', 'O'], ['O', 'O', 'X'], ['X', 'O', 'O']]"
   ]
  },
  {
   "cell_type": "code",
   "execution_count": 170,
   "metadata": {},
   "outputs": [],
   "source": [
    "board.resetBoard()"
   ]
  },
  {
   "cell_type": "code",
   "execution_count": 294,
   "metadata": {},
   "outputs": [
    {
     "data": {
      "text/plain": [
       "{'won': True, 'winner': 'X'}"
      ]
     },
     "execution_count": 294,
     "metadata": {},
     "output_type": "execute_result"
    }
   ],
   "source": [
    "board.threeInARow()"
   ]
  },
  {
   "cell_type": "code",
   "execution_count": 246,
   "metadata": {},
   "outputs": [
    {
     "data": {
      "text/plain": [
       "[False, False]"
      ]
     },
     "execution_count": 246,
     "metadata": {},
     "output_type": "execute_result"
    }
   ],
   "source": [
    "#rows\n",
    "comp = [['X' for x in range(0,3)],['O' for x in range(0,3)]]\n",
    "[x in board.board for x in [['X', 'X', 'X'],['O', 'O', 'O']]]"
   ]
  },
  {
   "cell_type": "code",
   "execution_count": 196,
   "metadata": {},
   "outputs": [
    {
     "data": {
      "text/plain": [
       "[['X', 'X', 'X'], ['O', 'O', 'O']]"
      ]
     },
     "execution_count": 196,
     "metadata": {},
     "output_type": "execute_result"
    }
   ],
   "source": [
    "[['X' for x in range(0,3)],['O' for x in range(0,3)]]"
   ]
  },
  {
   "cell_type": "code",
   "execution_count": 275,
   "metadata": {},
   "outputs": [
    {
     "data": {
      "text/plain": [
       "[False, True, False]"
      ]
     },
     "execution_count": 275,
     "metadata": {},
     "output_type": "execute_result"
    }
   ],
   "source": [
    "[True in row for row in [[X in [['X', 'X', 'X'],['O', 'O', 'O']]] for X in board.board]]\n"
   ]
  },
  {
   "cell_type": "code",
   "execution_count": 288,
   "metadata": {},
   "outputs": [
    {
     "data": {
      "text/plain": [
       "[False, True, False]"
      ]
     },
     "execution_count": 288,
     "metadata": {},
     "output_type": "execute_result"
    }
   ],
   "source": [
    "[X in [['X', 'X', 'X'],['O', 'O', 'O']] for X in board.board]"
   ]
  }
 ],
 "metadata": {
  "interpreter": {
   "hash": "a0bb9f38b72d2b8c0e0537b296d207836760276085e51cc083105ecf26ba0b89"
  },
  "kernelspec": {
   "display_name": "Python 3.9.6 64-bit",
   "language": "python",
   "name": "python3"
  },
  "language_info": {
   "codemirror_mode": {
    "name": "ipython",
    "version": 3
   },
   "file_extension": ".py",
   "mimetype": "text/x-python",
   "name": "python",
   "nbconvert_exporter": "python",
   "pygments_lexer": "ipython3",
   "version": "3.9.6"
  },
  "orig_nbformat": 4
 },
 "nbformat": 4,
 "nbformat_minor": 2
}
